{
 "cells": [
  {
   "cell_type": "markdown",
   "metadata": {},
   "source": [
    "# assignment 1"
   ]
  },
  {
   "cell_type": "markdown",
   "metadata": {},
   "source": [
    "sum of numbersusing while lopp"
   ]
  },
  {
   "cell_type": "code",
   "execution_count": 3,
   "metadata": {},
   "outputs": [
    {
     "name": "stdout",
     "output_type": "stream",
     "text": [
      "0 -->\n",
      "1 -->\n",
      "2 -->\n",
      "3 -->\n",
      "4 -->\n",
      "the sum of numbers= 10\n"
     ]
    }
   ],
   "source": [
    "s= 0\n",
    "n=0\n",
    "while n<5:\n",
    "    s=s+n\n",
    "    print(n,'-->',)\n",
    "    n =n+1\n",
    "print('the sum of numbers=',s)"
   ]
  },
  {
   "cell_type": "markdown",
   "metadata": {},
   "source": [
    "# assigment 2 prime or not"
   ]
  },
  {
   "cell_type": "code",
   "execution_count": 11,
   "metadata": {},
   "outputs": [
    {
     "name": "stdout",
     "output_type": "stream",
     "text": [
      "enter the number111\n",
      "111 is not a prime number\n"
     ]
    }
   ],
   "source": [
    "num =int(input('enter the number'))\n",
    "if num>1:\n",
    "    for i in range(2,num):\n",
    "        if(num%i)==0:\n",
    "            print(num,'is not a prime number')\n",
    "            break\n",
    "    else:\n",
    "        print(num,'is a prime number' )"
   ]
  }
 ],
 "metadata": {
  "kernelspec": {
   "display_name": "Python 3",
   "language": "python",
   "name": "python3"
  },
  "language_info": {
   "codemirror_mode": {
    "name": "ipython",
    "version": 3
   },
   "file_extension": ".py",
   "mimetype": "text/x-python",
   "name": "python",
   "nbconvert_exporter": "python",
   "pygments_lexer": "ipython3",
   "version": "3.7.6"
  }
 },
 "nbformat": 4,
 "nbformat_minor": 4
}
